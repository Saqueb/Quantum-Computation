{
  "nbformat": 4,
  "nbformat_minor": 0,
  "metadata": {
    "colab": {
      "provenance": [],
      "include_colab_link": true
    },
    "kernelspec": {
      "name": "python3",
      "display_name": "Python 3"
    },
    "language_info": {
      "name": "python"
    }
  },
  "cells": [
    {
      "cell_type": "markdown",
      "metadata": {
        "id": "view-in-github",
        "colab_type": "text"
      },
      "source": [
        "<a href=\"https://colab.research.google.com/github/Saqueb/Quantum-Computation/blob/main/Quantum_Computation_Project.ipynb\" target=\"_parent\"><img src=\"https://colab.research.google.com/assets/colab-badge.svg\" alt=\"Open In Colab\"/></a>"
      ]
    },
    {
      "cell_type": "markdown",
      "source": [
        "## **Quantum Computation Project**\n",
        "AIM: To Find the equilibrium distance between two atoms in a Hydrogen Molecule and to calculate the ground-state & Excited-state energies along with the correspoding dipole moment along different axes as well as the total dipole moment of the Molecule\n",
        "\n",
        "---\n",
        "\n",
        "\n",
        "\n",
        "---\n",
        "\n"
      ],
      "metadata": {
        "id": "paSnNxwpJn3H"
      }
    },
    {
      "cell_type": "markdown",
      "source": [
        "# **1. Introduction**\n",
        "The molecular Hamiltonian is defined as,\n",
        "$$ H = - \\sum_I \\frac{\\nabla^2_{R_I}}{M_I} - \\sum_i \\frac{∇^2_{r_i}}{m_e} - \\sum_I \\sum_i \\frac{Z_I e^2}{|R_I -r_i|} + \\sum_i \\sum_{j>i} \\frac{e^2}{|r_i-r_j|} + \\sum_I \\sum_{J>I} \\frac{Z_I Z_J e^2}{|R_I -R_J|}$$\n",
        "\n",
        "Here, we use the Born-oppenheimer approximation which assumes the nuclei to be stationary. Hence, the behaviour of nuclei and electrons can be decoupled. Hence, we can approximate the Hamiltonian as,\n",
        "\n",
        "$$ H_{el} = - \\sum_i \\frac{∇^2_{r_i}}{m_e} - \\sum_I \\sum_i \\frac{Z_I e^2}{|R_I -r_i|} + \\sum_i \\sum_{j>i} \\frac{e^2}{|r_i-r_j|} $$\n",
        "\n",
        "We have to solve this hamiltonian in order to obtain energy states. However, we cannot do this on a classical computer as our hamiltonian consist of electron-electron interaction which need to be solved as a two-body prpblem. Solving this on a classical computer will be disastoruos and may not yeild the exact result. However, the VQE approach can solve this very easily and also yeild the exact result. \n",
        "\n",
        "---\n",
        "\n",
        "\n",
        "\n",
        "---\n",
        "\n"
      ],
      "metadata": {
        "id": "wtz3B5da8Zsf"
      }
    },
    {
      "cell_type": "markdown",
      "source": [
        "## **2.Understanding the VQE**\n",
        "In 2014, Peruzzo et al. proposed VQE to estimate the ground state energy of a molecule. This algorithm uses the basic principle of Variational method in quantum mechanics which is used to caluculate the ground state energy of a system.\n",
        "  \n",
        "  We know that the variational principle in quantum mechanics states that, for an arbitrary quantum state $ |\\Psi (\\theta)\\rangle $:   \n",
        "\n",
        "$$ E_{gs} \\leq E_{|\\Psi (\\theta)\\rangle} $$  \n",
        "\n",
        "where, $E_{gs}$ is the ground state of the specified hamiltonian.\n",
        "\n",
        "Now in order to obtain the solution for the hamiltonian we first need to reduce the hamiltonian and operators of the system to a form that can be solved analytically.\n",
        "\n",
        "---\n",
        "\n",
        "\n",
        "\n",
        "### 2.1 Fermionic space to Qubit Space\n",
        "First we have to understand how we can covert the Hamiltonian and operators from fermionic space to Qubit space. \n",
        "\n",
        "1. Mapping between states:- A mapping of slater determinants to Qubit states. We have many types of mapping such as, Jordan_weigner mapping, parity mapping, etc.\n",
        "2. Reconstructing fermionic algebra in Qubit-space. For example, we represent the Jordan-Weigner mapping as,\n",
        "$$a^{\\dagger}_i = (\\prod_{j<i} \\sigma^z_j) \\sigma^{+}_i \\longmapsto \\text{Creation Operator}$$\n",
        "$$a_i = (\\prod_{j<i} \\sigma^z_j) \\sigma^{-}_i \\longmapsto \\text{Annhilation Operator}$$\n",
        "![](https://qiskit.org/documentation/nature/_images/jw_mapping.png)\n",
        "\n",
        "\n",
        "---\n",
        "\n",
        "\n",
        "### 2.2 Tapering of Qubits\n",
        "One can reduce the number of Qubits required in simulation. Some examples are:\n",
        "\n",
        "(a) If the Hamiltonian is symmetric, finding these symmetries are very important. \n",
        "\n",
        "(b) One can even freeze the orbitals of ground states, i.e., by not taking any qubit corresponding to the ground state.\n",
        "\n",
        "\n",
        "---\n",
        "\n",
        "\n",
        "\n",
        "### 2.3 Trial state preparation (Ansatz)\n",
        "First, we assign |0> state to all Qubits. Then we assign single qubit-gates to these qubits. Then we assign a entangler block to all the qubits, and then we repeat the sequence as many times as required. These single qubit gates and the entanglers are there to add the paramteres that are required for the trial state.\n",
        "\n",
        "\n",
        "---\n",
        "\n",
        "\n",
        "### 2.4 Energy measurement\n",
        "Now we try to find the minimum energy of the state, and for that we try to optimize the paramaters using classical optimizers, and we measure the energy again and we try to find the required state at which the system will have the minimum energy.\n",
        "$$E = \\frac{<\\psi_0 |H_{el}|\\psi_o>}{<\\psi_0|\\psi_0>}$$\n",
        "\n",
        "\n",
        "---\n",
        "\n",
        "\n",
        "\n",
        "---\n",
        "\n"
      ],
      "metadata": {
        "id": "7rnxGCdOAuRF"
      }
    },
    {
      "cell_type": "code",
      "execution_count": null,
      "metadata": {
        "id": "Jz2dFd-U3Z6x"
      },
      "outputs": [],
      "source": [
        "pip install qiskit-nature[pyscf]"
      ]
    },
    {
      "cell_type": "code",
      "source": [
        "pip install qiskit"
      ],
      "metadata": {
        "id": "178EVor23h5l"
      },
      "execution_count": null,
      "outputs": []
    },
    {
      "cell_type": "code",
      "source": [
        "pip install qiskit-nature"
      ],
      "metadata": {
        "id": "CPlYy4zT3uoX"
      },
      "execution_count": null,
      "outputs": []
    },
    {
      "cell_type": "code",
      "source": [
        "pip install pyscf"
      ],
      "metadata": {
        "id": "eCImwU3631Jy"
      },
      "execution_count": null,
      "outputs": []
    },
    {
      "cell_type": "markdown",
      "source": [
        "# **1. Equilibrium distance between the hydrogen atoms in a Hydrogen Molecule and the corresponding energy**\n",
        "\n"
      ],
      "metadata": {
        "id": "-Rv2-v0VG_UB"
      }
    },
    {
      "cell_type": "code",
      "source": [
        "from qiskit import *\n",
        "import numpy as np\n",
        "import matplotlib.pyplot as plt"
      ],
      "metadata": {
        "id": "yr3Bt5_34Eot"
      },
      "execution_count": null,
      "outputs": []
    },
    {
      "cell_type": "code",
      "source": [
        "from qiskit_nature.drivers import UnitsType, Molecule\n",
        "from qiskit_nature.drivers.second_quantization import ElectronicStructureDriverType, ElectronicStructureMoleculeDriver\n",
        "from qiskit_nature.problems.second_quantization import ElectronicStructureProblem\n",
        "from qiskit_nature.converters.second_quantization import QubitConverter\n",
        "from qiskit_nature.mappers.second_quantization import JordanWignerMapper\n",
        "from qiskit.providers.aer import StatevectorSimulator\n",
        "from qiskit import Aer\n",
        "from qiskit.utils import QuantumInstance\n",
        "from qiskit_nature.algorithms import VQEUCCFactory\n",
        "from qiskit_nature.algorithms import GroundStateEigensolver\n",
        "from qiskit.algorithms import VQE\n",
        "from qiskit.circuit.library import TwoLocal\n",
        "from qiskit.algorithms import NumPyMinimumEigensolver"
      ],
      "metadata": {
        "id": "_ypg5rsY6L1b"
      },
      "execution_count": null,
      "outputs": []
    },
    {
      "cell_type": "markdown",
      "source": [
        "In order to calculate the equilibrium distance between two atoms in a Hydrogen Molecule, we first define the molecule which has a variable separation. Next, using NumPyMinimumEigensolver we calculate the energy of the system corresponding to each separation. We store all these energy to an array from where we extract the minimum energy."
      ],
      "metadata": {
        "id": "UMoCcFGl7c5I"
      }
    },
    {
      "cell_type": "code",
      "source": [
        "distances = np.arange(0.5, 1.0, 0.01)\n",
        "vqe_energies = []\n",
        "exact_energies = []\n",
        "dist2 = []\n",
        "dev = 0\n",
        "\n",
        "for dist in distances:\n",
        "    molecule = Molecule(geometry=[['H', [0., 0., 0.]],\n",
        "                                ['H', [0., 0., dist]]],\n",
        "                        charge=0, multiplicity=1)\n",
        "    driver = ElectronicStructureMoleculeDriver(molecule, basis='sto3g', driver_type=ElectronicStructureDriverType.PYSCF)\n",
        "    es_problem = ElectronicStructureProblem(driver)# \n",
        "    numpy_solver = NumPyMinimumEigensolver()\n",
        "    qubit_converter = QubitConverter(mapper = JordanWignerMapper()) \n",
        "    quantum_instance = QuantumInstance(backend=Aer.get_backend(\"aer_simulator_statevector\"))\n",
        "    vqe_solver = VQEUCCFactory(quantum_instance)   \n",
        "    calc = GroundStateEigensolver(qubit_converter, vqe_solver)  \n",
        "    res = calc.solve(es_problem)\n",
        "    calc2 = GroundStateEigensolver(qubit_converter, numpy_solver)   \n",
        "    res2 = calc2.solve(es_problem)\n",
        "    vqe_energies.append(res.total_energies)\n",
        "    exact_energies.append(res2.total_energies)\n",
        "    dist2.append(dist)"
      ],
      "metadata": {
        "id": "XQbwAfE86ZHa"
      },
      "execution_count": null,
      "outputs": []
    },
    {
      "cell_type": "code",
      "source": [
        "plt.plot(distances, vqe_energies, label='VQE')\n",
        "plt.plot(distances, exact_energies, label='Exact')\n",
        "plt.legend()\n",
        "plt.xlabel('distance (A)')\n",
        "plt.ylabel('Energy (Hartree Units)')\n",
        "plt.show()"
      ],
      "metadata": {
        "colab": {
          "base_uri": "https://localhost:8080/",
          "height": 449
        },
        "id": "Ts9D_KXm7a01",
        "outputId": "63f8f0de-8936-4874-f03f-df545281f876"
      },
      "execution_count": null,
      "outputs": [
        {
          "output_type": "display_data",
          "data": {
            "text/plain": [
              "<Figure size 640x480 with 1 Axes>"
            ],
            "image/png": "[encoded data removed]"
          },
          "metadata": {}
        }
      ]
    },
    {
      "cell_type": "markdown",
      "source": [
        "Now we have an array that consist of all the energy calculated at various separation of the atoms. we use the min() funstion to find out the minimum energy and we extract the array index that corresponds to this energy value. Then we use this index to find out the separation that corresponds to the minimum energy. This gives us the equilibrium separation of the atoms in Hydrogen molecules."
      ],
      "metadata": {
        "id": "y4p8RpNa8BGs"
      }
    },
    {
      "cell_type": "code",
      "source": [
        "E0 = min(vqe_energies)\n",
        "x = 0\n",
        "for i in range(0,len(vqe_energies)):\n",
        "  if vqe_energies[i] == E0:\n",
        "    x = i\n",
        "\n",
        "print('The equilibrium distance between two atoms of Hydrogen molecule is: ', dist2[x], ' and the corresponding equilibrium state enrgy is: ', E0)\n"
      ],
      "metadata": {
        "colab": {
          "base_uri": "https://localhost:8080/"
        },
        "id": "WOeWlfaL9E5l",
        "outputId": "dba00413-0352-4946-cfa9-9acd02c13079"
      },
      "execution_count": null,
      "outputs": [
        {
          "output_type": "stream",
          "name": "stdout",
          "text": [
            "The equilibrium distance between two atoms of Hydrogen molecule is:  0.7300000000000002  and the corresponding equilibrium state enrgy is:  [-1.13728568]\n"
          ]
        }
      ]
    },
    {
      "cell_type": "markdown",
      "source": [
        "## **2. Ground State Energy and the dipole moments along different axes and the total dipole moment of the molecule**"
      ],
      "metadata": {
        "id": "QdGOvWZzHUDG"
      }
    },
    {
      "cell_type": "markdown",
      "source": [
        "We use the Ground state solvers to compute the ground state of a molecular Hamiltionian:\n",
        "1. We define the molecular system. Here we have to define the hydrogem molecule containing 2 atoms separated at a distance of $0.735 A^\\circ$."
      ],
      "metadata": {
        "id": "GyEcsEN-rlaN"
      }
    },
    {
      "cell_type": "code",
      "source": [
        "from qiskit_nature.units import DistanceUnit\n",
        "from qiskit_nature.second_q.drivers import PySCFDriver\n",
        "\n",
        "driver = PySCFDriver(\n",
        "    atom=\"H 0 0 0; H 0 0 0.735\",\n",
        "    basis=\"sto3g\",\n",
        "    charge=0,\n",
        "    spin=0,\n",
        "    unit=DistanceUnit.ANGSTROM,\n",
        ")\n",
        "\n",
        "es_problem = driver.run()"
      ],
      "metadata": {
        "id": "ona0FmGJHmu7"
      },
      "execution_count": null,
      "outputs": []
    },
    {
      "cell_type": "markdown",
      "source": [
        "2. Next we use the Jordan-Wigner mapping to map the Fermionic space to Qubit space."
      ],
      "metadata": {
        "id": "4UwWiy39r8qQ"
      }
    },
    {
      "cell_type": "code",
      "source": [
        "from qiskit_nature.second_q.mappers import JordanWignerMapper, QubitConverter\n",
        "\n",
        "converter = QubitConverter(JordanWignerMapper())"
      ],
      "metadata": {
        "id": "wHjZME2zH0BN"
      },
      "execution_count": null,
      "outputs": []
    },
    {
      "cell_type": "markdown",
      "source": [
        "3. After this, we define a solver which is actually the algorithm through which the ground state is computed. We use the NumPyMinimumEigensolver, which is the algorithm that exactly diagonalizes the Hamiltonian, hence giving us the ground state energy of the system."
      ],
      "metadata": {
        "id": "wT2OANlHsJEo"
      }
    },
    {
      "cell_type": "code",
      "source": [
        "from qiskit.algorithms.minimum_eigensolvers import NumPyMinimumEigensolver\n",
        "\n",
        "numpy_solver = NumPyMinimumEigensolver()"
      ],
      "metadata": {
        "id": "Wq6X_z_pILpD"
      },
      "execution_count": null,
      "outputs": []
    },
    {
      "cell_type": "markdown",
      "source": [
        "\n",
        "\n",
        "*   VQE algorithm works by exchanging information between a classical and a quantum computer\n",
        "![](https://qiskit.org/documentation/stable/0.24/_images/vqe.png)\n",
        "\n",
        "To define VQE solver we need three essential elements:\n",
        "1. An Estimator primitive: core function that makes it easier to build modular algorithm & applications.\n",
        "2. A Vartiational from: for example Unitary coupled Cluster (UCC), which acts a the ansatz of the problem\n",
        "3. An Optimizer: a classical code that optimizes the parameters in the variational form"
      ],
      "metadata": {
        "id": "p5dQ5OTcsmq1"
      }
    },
    {
      "cell_type": "code",
      "source": [
        "from qiskit.algorithms.optimizers import SLSQP\n",
        "from qiskit.primitives import Estimator\n",
        "from qiskit_nature.second_q.algorithms import VQEUCCFactory\n",
        "from qiskit_nature.second_q.circuit.library import UCCSD\n",
        "\n",
        "vqe_solver = VQEUCCFactory(Estimator(), UCCSD(), SLSQP())"
      ],
      "metadata": {
        "id": "JGL0RJFdIN1D"
      },
      "execution_count": null,
      "outputs": []
    },
    {
      "cell_type": "code",
      "source": [
        "from qiskit.algorithms.minimum_eigensolvers import VQE\n",
        "from qiskit.circuit.library import TwoLocal\n",
        "\n",
        "tl_circuit = TwoLocal(\n",
        "    rotation_blocks=[\"h\", \"rx\"],\n",
        "    entanglement_blocks=\"cz\",\n",
        "    entanglement=\"full\",\n",
        "    reps=2,\n",
        "    parameter_prefix=\"y\",\n",
        ")\n",
        "\n",
        "another_solver = VQE(Estimator(), tl_circuit, SLSQP())"
      ],
      "metadata": {
        "id": "zu-ohf3_IQ_n"
      },
      "execution_count": null,
      "outputs": []
    },
    {
      "cell_type": "code",
      "source": [
        "from qiskit_nature.second_q.algorithms import GroundStateEigensolver\n",
        "\n",
        "calc = GroundStateEigensolver(converter, vqe_solver)"
      ],
      "metadata": {
        "id": "AGncHZq-ITk2"
      },
      "execution_count": null,
      "outputs": []
    },
    {
      "cell_type": "code",
      "source": [
        "res = calc.solve(es_problem)\n",
        "print(res)"
      ],
      "metadata": {
        "colab": {
          "base_uri": "https://localhost:8080/"
        },
        "id": "mVGt02S7IWaL",
        "outputId": "2c5c9713-dcd7-430a-cddd-b5037c6ed556"
      },
      "execution_count": null,
      "outputs": [
        {
          "output_type": "stream",
          "name": "stdout",
          "text": [
            "=== GROUND STATE ENERGY ===\n",
            " \n",
            "* Electronic ground state energy (Hartree): -1.857275030144\n",
            "  - computed part:      -1.857275030144\n",
            "~ Nuclear repulsion energy (Hartree): 0.719968994449\n",
            "> Total ground state energy (Hartree): -1.137306035695\n",
            " \n",
            "=== MEASURED OBSERVABLES ===\n",
            " \n",
            "  0:  # Particles: 2.000 S: 0.000 S^2: 0.000 M: 0.000\n",
            " \n",
            "=== DIPOLE MOMENTS ===\n",
            " \n",
            "~ Nuclear dipole moment (a.u.): [0.0  0.0  1.3889487]\n",
            " \n",
            "  0: \n",
            "  * Electronic dipole moment (a.u.): [0.0  0.0  1.38894866]\n",
            "    - computed part:      [0.0  0.0  1.38894866]\n",
            "  > Dipole moment (a.u.): [0.0  0.0  0.00000004]  Total: 0.00000004\n",
            "                 (debye): [0.0  0.0  0.00000009]  Total: 0.00000009\n",
            " \n"
          ]
        }
      ]
    },
    {
      "cell_type": "code",
      "source": [
        "calc = GroundStateEigensolver(converter, numpy_solver)\n",
        "res = calc.solve(es_problem)\n",
        "print(res)"
      ],
      "metadata": {
        "colab": {
          "base_uri": "https://localhost:8080/"
        },
        "id": "1fgGms4LIYkm",
        "outputId": "92fa5c6d-c2e5-4349-e5d8-3c3ffa7fcac0"
      },
      "execution_count": null,
      "outputs": [
        {
          "output_type": "stream",
          "name": "stdout",
          "text": [
            "=== GROUND STATE ENERGY ===\n",
            " \n",
            "* Electronic ground state energy (Hartree): -1.857275030202\n",
            "  - computed part:      -1.857275030202\n",
            "~ Nuclear repulsion energy (Hartree): 0.719968994449\n",
            "> Total ground state energy (Hartree): -1.137306035753\n",
            " \n",
            "=== MEASURED OBSERVABLES ===\n",
            " \n",
            "  0:  # Particles: 2.000 S: 0.000 S^2: 0.000 M: 0.000\n",
            " \n",
            "=== DIPOLE MOMENTS ===\n",
            " \n",
            "~ Nuclear dipole moment (a.u.): [0.0  0.0  1.3889487]\n",
            " \n",
            "  0: \n",
            "  * Electronic dipole moment (a.u.): [0.0  0.0  1.3889487]\n",
            "    - computed part:      [0.0  0.0  1.3889487]\n",
            "  > Dipole moment (a.u.): [0.0  0.0  0.0]  Total: 0.0\n",
            "                 (debye): [0.0  0.0  0.0]  Total: 0.0\n",
            " \n"
          ]
        }
      ]
    },
    {
      "cell_type": "markdown",
      "source": [
        "## **2. Excited state energy and the dipole moment along different axes and the total dipole moment of the molecule**\n",
        "To calculate the excited energies we follow the same steps as defined for ground state solver, however, we make use of qEOM (quantum Equation of Motion) algorithm which helps us to access the excited energies of a particular molecule. The EOM method finds the exictation energies (differences in energy between the ground state and all \n",
        "th excited states) by solving the following pseudo-eigenvalue problem.\n",
        "\n",
        "$$\\begin{pmatrix} M & Q \\\\ Q^* & M^*\\end{pmatrix} \\begin{pmatrix} X_n \\\\ Y_n \\end{pmatrix} = E_{0n} \\begin{pmatrix} V & W \\\\ -W^* & -V^* \\end{pmatrix} \\begin{pmatrix} X_n \\\\ Y_n \\end{pmatrix} $$\n",
        "\n",
        "with \n",
        "\n",
        "$$M_{\\mu_α ν_β} = <0|[(\\hat{E}^{(\\alpha)}_{μ_α})^†, \\hat{H}, \\hat{E}^{(β)}_{ν_β}]|0>$$\n",
        "$$Q_{μ_α ν_β} = - <0|[(\\hat{E}^{(\\alpha)}_{μ_α})^†, \\hat{H}, (\\hat{E}^{(β)}_{ν_β})^†]|0>$$\n",
        "$$V_{μ_α ν_β} = <0|[(\\hat{E}^{(\\alpha)}_{μ_α})^†, \\hat{E}^{(β)}_{ν_β}]|0>$$\n",
        "$$W_{μ_α ν_β} = - <0|[(\\hat{E}^{(\\alpha)}_{μ_α})^†, (\\hat{E}^{(β)}_{ν_β})^†]|0>$$"
      ],
      "metadata": {
        "id": "ozItU00mIlnu"
      }
    },
    {
      "cell_type": "code",
      "source": [
        "from qiskit_nature.units import DistanceUnit\n",
        "from qiskit_nature.second_q.drivers import PySCFDriver\n",
        "\n",
        "driver = PySCFDriver(\n",
        "    atom=\"H 0 0 0; H 0 0 0.735\",\n",
        "    basis=\"sto3g\",\n",
        "    charge=0,\n",
        "    spin=0,\n",
        "    unit=DistanceUnit.ANGSTROM,\n",
        ")\n",
        "\n",
        "es_problem = driver.run()"
      ],
      "metadata": {
        "id": "povb1ynoIyek"
      },
      "execution_count": null,
      "outputs": []
    },
    {
      "cell_type": "code",
      "source": [
        "from qiskit_nature.second_q.mappers import JordanWignerMapper, QubitConverter\n",
        "\n",
        "converter = QubitConverter(JordanWignerMapper())"
      ],
      "metadata": {
        "id": "VM3Vy97uI1Fz"
      },
      "execution_count": null,
      "outputs": []
    },
    {
      "cell_type": "code",
      "source": [
        "from qiskit_nature.second_q.algorithms import NumPyEigensolverFactory\n",
        "\n",
        "numpy_solver = NumPyEigensolverFactory(use_default_filter_criterion=True)"
      ],
      "metadata": {
        "id": "_QCFkfhNI4QY"
      },
      "execution_count": null,
      "outputs": []
    },
    {
      "cell_type": "markdown",
      "source": [
        "To use the qEOM as a solver in Qiskit, we have to define a ground state calculation first, which will provide the required ground state information to the algorithm."
      ],
      "metadata": {
        "id": "MZJKX2GeL7gp"
      }
    },
    {
      "cell_type": "code",
      "source": [
        "from qiskit.algorithms.optimizers import SLSQP\n",
        "from qiskit.primitives import Estimator\n",
        "from qiskit_nature.second_q.algorithms import GroundStateEigensolver, QEOM, VQEUCCFactory\n",
        "from qiskit_nature.second_q.circuit.library import UCCSD\n",
        "\n",
        "estimator = Estimator()\n",
        "# This first part sets the ground state solver\n",
        "solver = VQEUCCFactory(estimator, UCCSD(), SLSQP())\n",
        "gse = GroundStateEigensolver(converter, solver)\n",
        "\n",
        "# The qEOM algorithm is simply instantiated with the chosen ground state solver and Estimator primitive\n",
        "qeom_excited_states_solver = QEOM(gse, estimator, \"sd\")"
      ],
      "metadata": {
        "id": "roXm33A3I7PV"
      },
      "execution_count": null,
      "outputs": []
    },
    {
      "cell_type": "code",
      "source": [
        "from qiskit_nature.second_q.algorithms import ExcitedStatesEigensolver\n",
        "\n",
        "numpy_excited_states_solver = ExcitedStatesEigensolver(converter, numpy_solver)\n",
        "numpy_results = numpy_excited_states_solver.solve(es_problem)\n",
        "\n",
        "qeom_results = qeom_excited_states_solver.solve(es_problem)\n",
        "\n",
        "print(numpy_results)\n",
        "print(\"\\n\\n\")\n",
        "print(qeom_results)"
      ],
      "metadata": {
        "colab": {
          "base_uri": "https://localhost:8080/"
        },
        "id": "OqT1sqCqI9_U",
        "outputId": "6349c9e1-ee0d-4acc-80ab-046a90f79180"
      },
      "execution_count": null,
      "outputs": [
        {
          "output_type": "stream",
          "name": "stdout",
          "text": [
            "=== GROUND STATE ENERGY ===\n",
            " \n",
            "* Electronic ground state energy (Hartree): -1.857275030202\n",
            "  - computed part:      -1.857275030202\n",
            "~ Nuclear repulsion energy (Hartree): 0.719968994449\n",
            "> Total ground state energy (Hartree): -1.137306035753\n",
            " \n",
            "=== EXCITED STATE ENERGIES ===\n",
            " \n",
            "  1: \n",
            "* Electronic excited state energy (Hartree): -0.882722150245\n",
            "> Total excited state energy (Hartree): -0.162753155796\n",
            "  2: \n",
            "* Electronic excited state energy (Hartree): -0.224911252831\n",
            "> Total excited state energy (Hartree): 0.495057741618\n",
            " \n",
            "=== MEASURED OBSERVABLES ===\n",
            " \n",
            "  0:  # Particles: 2.000 S: 0.000 S^2: 0.000 M: 0.000\n",
            "  1:  # Particles: 2.000 S: 0.000 S^2: 0.000 M: 0.000\n",
            "  2:  # Particles: 2.000 S: 0.000 S^2: 0.000 M: 0.000\n",
            " \n",
            "=== DIPOLE MOMENTS ===\n",
            " \n",
            "~ Nuclear dipole moment (a.u.): [0.0  0.0  1.3889487]\n",
            " \n",
            "  0: \n",
            "  * Electronic dipole moment (a.u.): [0.0  0.0  1.3889487]\n",
            "    - computed part:      [0.0  0.0  1.3889487]\n",
            "  > Dipole moment (a.u.): [0.0  0.0  0.0]  Total: 0.0\n",
            "                 (debye): [0.0  0.0  0.0]  Total: 0.0\n",
            " \n",
            "  1: \n",
            "  * Electronic dipole moment (a.u.): [0.0  0.0  1.3889487]\n",
            "    - computed part:      [0.0  0.0  1.3889487]\n",
            "  > Dipole moment (a.u.): [0.0  0.0  0.0]  Total: 0.0\n",
            "                 (debye): [0.0  0.0  0.0]  Total: 0.0\n",
            " \n",
            "  2: \n",
            "  * Electronic dipole moment (a.u.): [0.0  0.0  1.3889487]\n",
            "    - computed part:      [0.0  0.0  1.3889487]\n",
            "  > Dipole moment (a.u.): [0.0  0.0  0.0]  Total: 0.0\n",
            "                 (debye): [0.0  0.0  0.0]  Total: 0.0\n",
            " \n",
            "\n",
            "\n",
            "\n",
            "=== GROUND STATE ENERGY ===\n",
            " \n",
            "* Electronic ground state energy (Hartree): -1.857275030144\n",
            "  - computed part:      -1.857275030144\n",
            "~ Nuclear repulsion energy (Hartree): 0.719968994449\n",
            "> Total ground state energy (Hartree): -1.137306035695\n",
            " \n",
            "=== EXCITED STATE ENERGIES ===\n",
            " \n",
            "  1: \n",
            "* Electronic excited state energy (Hartree): -1.244586765612\n",
            "> Total excited state energy (Hartree): -0.524617771163\n",
            "  2: \n",
            "* Electronic excited state energy (Hartree): -0.882724366013\n",
            "> Total excited state energy (Hartree): -0.162755371564\n",
            "  3: \n",
            "* Electronic excited state energy (Hartree): -0.224913468608\n",
            "> Total excited state energy (Hartree): 0.495055525841\n",
            " \n",
            "=== MEASURED OBSERVABLES ===\n",
            " \n",
            "  0:  # Particles: 2.000 S: 0.000 S^2: 0.000 M: 0.000\n",
            " \n",
            "=== DIPOLE MOMENTS ===\n",
            " \n",
            "~ Nuclear dipole moment (a.u.): [0.0  0.0  1.3889487]\n",
            " \n",
            "  0: \n",
            "  * Electronic dipole moment (a.u.): [0.0  0.0  1.38894866]\n",
            "    - computed part:      [0.0  0.0  1.38894866]\n",
            "  > Dipole moment (a.u.): [0.0  0.0  0.00000004]  Total: 0.00000004\n",
            "                 (debye): [0.0  0.0  0.00000009]  Total: 0.00000009\n",
            " \n"
          ]
        }
      ]
    },
    {
      "cell_type": "code",
      "source": [
        "import numpy as np\n",
        "\n",
        "\n",
        "def filter_criterion(eigenstate, eigenvalue, aux_values):\n",
        "    return np.isclose(aux_values[\"ParticleNumber\"][0], 2.0)\n",
        "\n",
        "\n",
        "new_numpy_solver = NumPyEigensolverFactory(filter_criterion=filter_criterion)\n",
        "new_numpy_excited_states_solver = ExcitedStatesEigensolver(converter, new_numpy_solver)\n",
        "new_numpy_results = new_numpy_excited_states_solver.solve(es_problem)\n",
        "\n",
        "print(new_numpy_results)"
      ],
      "metadata": {
        "colab": {
          "base_uri": "https://localhost:8080/"
        },
        "id": "TJTPogR6JCvj",
        "outputId": "3aa139ef-a538-488c-8ce1-51a7ec2f6eb9"
      },
      "execution_count": null,
      "outputs": [
        {
          "output_type": "stream",
          "name": "stdout",
          "text": [
            "=== GROUND STATE ENERGY ===\n",
            " \n",
            "* Electronic ground state energy (Hartree): -1.857275030202\n",
            "  - computed part:      -1.857275030202\n",
            "~ Nuclear repulsion energy (Hartree): 0.719968994449\n",
            "> Total ground state energy (Hartree): -1.137306035753\n",
            " \n",
            "=== EXCITED STATE ENERGIES ===\n",
            " \n",
            "  1: \n",
            "* Electronic excited state energy (Hartree): -1.244584549813\n",
            "> Total excited state energy (Hartree): -0.524615555364\n",
            "  2: \n",
            "* Electronic excited state energy (Hartree): -1.244584549813\n",
            "> Total excited state energy (Hartree): -0.524615555364\n",
            "  3: \n",
            "* Electronic excited state energy (Hartree): -1.244584549813\n",
            "> Total excited state energy (Hartree): -0.524615555364\n",
            "  4: \n",
            "* Electronic excited state energy (Hartree): -0.882722150245\n",
            "> Total excited state energy (Hartree): -0.162753155796\n",
            "  5: \n",
            "* Electronic excited state energy (Hartree): -0.224911252831\n",
            "> Total excited state energy (Hartree): 0.495057741618\n",
            " \n",
            "=== MEASURED OBSERVABLES ===\n",
            " \n",
            "  0:  # Particles: 2.000 S: 0.000 S^2: 0.000 M: 0.000\n",
            "  1:  # Particles: 2.000 S: 1.000 S^2: 2.000 M: 1.000\n",
            "  2:  # Particles: 2.000 S: 1.000 S^2: 2.000 M: 0.000\n",
            "  3:  # Particles: 2.000 S: 1.000 S^2: 2.000 M: -1.000\n",
            "  4:  # Particles: 2.000 S: 0.000 S^2: 0.000 M: 0.000\n",
            "  5:  # Particles: 2.000 S: 0.000 S^2: 0.000 M: 0.000\n",
            " \n",
            "=== DIPOLE MOMENTS ===\n",
            " \n",
            "~ Nuclear dipole moment (a.u.): [0.0  0.0  1.3889487]\n",
            " \n",
            "  0: \n",
            "  * Electronic dipole moment (a.u.): [0.0  0.0  1.3889487]\n",
            "    - computed part:      [0.0  0.0  1.3889487]\n",
            "  > Dipole moment (a.u.): [0.0  0.0  0.0]  Total: 0.0\n",
            "                 (debye): [0.0  0.0  0.0]  Total: 0.0\n",
            " \n",
            "  1: \n",
            "  * Electronic dipole moment (a.u.): [0.0  0.0  1.3889487]\n",
            "    - computed part:      [0.0  0.0  1.3889487]\n",
            "  > Dipole moment (a.u.): [0.0  0.0  0.0]  Total: 0.0\n",
            "                 (debye): [0.0  0.0  0.0]  Total: 0.0\n",
            " \n",
            "  2: \n",
            "  * Electronic dipole moment (a.u.): [0.0  0.0  1.3889487]\n",
            "    - computed part:      [0.0  0.0  1.3889487]\n",
            "  > Dipole moment (a.u.): [0.0  0.0  0.0]  Total: 0.0\n",
            "                 (debye): [0.0  0.0  0.0]  Total: 0.0\n",
            " \n",
            "  3: \n",
            "  * Electronic dipole moment (a.u.): [0.0  0.0  1.3889487]\n",
            "    - computed part:      [0.0  0.0  1.3889487]\n",
            "  > Dipole moment (a.u.): [0.0  0.0  0.0]  Total: 0.0\n",
            "                 (debye): [0.0  0.0  0.0]  Total: 0.0\n",
            " \n",
            "  4: \n",
            "  * Electronic dipole moment (a.u.): [0.0  0.0  1.3889487]\n",
            "    - computed part:      [0.0  0.0  1.3889487]\n",
            "  > Dipole moment (a.u.): [0.0  0.0  0.0]  Total: 0.0\n",
            "                 (debye): [0.0  0.0  0.0]  Total: 0.0\n",
            " \n",
            "  5: \n",
            "  * Electronic dipole moment (a.u.): [0.0  0.0  1.3889487]\n",
            "    - computed part:      [0.0  0.0  1.3889487]\n",
            "  > Dipole moment (a.u.): [0.0  0.0  0.0]  Total: 0.0\n",
            "                 (debye): [0.0  0.0  0.0]  Total: 0.0\n",
            " \n"
          ]
        }
      ]
    },
    {
      "cell_type": "code",
      "source": [],
      "metadata": {
        "id": "LprVI5vpJI3d"
      },
      "execution_count": null,
      "outputs": []
    }
  ]
}